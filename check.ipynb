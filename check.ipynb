{
 "cells": [
  {
   "cell_type": "code",
   "execution_count": null,
   "metadata": {},
   "outputs": [],
   "source": [
    "import numpy as numpy\n",
    "import random\n",
    "class Random:\n",
    "    def random_array():\n",
    "        arr_1.np.random.randint(10, 50, 9)\n",
    "        print(\"------------Array with Random Elements--------\")\n",
    "        print(arr_1)\n",
    "Random.random_array()\n"
   ]
  }
 ],
 "metadata": {
  "language_info": {
   "name": "python"
  },
  "orig_nbformat": 4
 },
 "nbformat": 4,
 "nbformat_minor": 2
}
